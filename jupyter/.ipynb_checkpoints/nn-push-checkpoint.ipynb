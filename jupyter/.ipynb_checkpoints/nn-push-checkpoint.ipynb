{
 "cells": [
  {
   "cell_type": "code",
   "execution_count": 1,
   "metadata": {
    "slideshow": {
     "slide_type": "-"
    }
   },
   "outputs": [],
   "source": [
    "import os\n",
    "\n",
    "os.environ['CUDA_DEVICE_ORDER'] = 'PCI_BUS_ID'\n",
    "os.environ['CUDA_VISIBLE_DEVICES'] = '1'\n",
    "\n",
    "import tensorflow as tf\n",
    "\n",
    "%load_ext autoreload\n",
    "%autoreload 2"
   ]
  },
  {
   "cell_type": "code",
   "execution_count": 121,
   "metadata": {},
   "outputs": [
    {
     "name": "stdout",
     "output_type": "stream",
     "text": [
      "Reward Mean: 0.0351\n",
      "Progress: 1000 of 2394\n",
      "Progress: 2000 of 2394\n",
      "Written training data to /home/berscheid/Documents/data/pushing/gen-push/train.csv\n",
      "Written test data to /home/berscheid/Documents/data/pushing/gen-push/test.csv\n"
     ]
    }
   ],
   "source": [
    "from generate_input_planar_pose import GenerateInputPlanarPose\n",
    "\n",
    "directory = os.path.expanduser('~/Documents/data/')\n",
    "\n",
    "generator = GenerateInputPlanarPose([\n",
    "    directory + 'pushing/cylinder-cube-1.db',\n",
    "], test_files=[\n",
    "#    directory + 'all-1/all-1.db',\n",
    "], output_folder='gen-push/')\n",
    "\n",
    "generator.percent_test_set = 0.2\n",
    "generator.generateInput({\n",
    "    'did_grasp_weight': 0.13,\n",
    "    'force_rewrite': True,\n",
    "    'size_cropped': (240, 240),\n",
    "    'size_input': (752, 480),\n",
    "    'size_output': (32, 32),\n",
    "})"
   ]
  },
  {
   "cell_type": "code",
   "execution_count": 122,
   "metadata": {},
   "outputs": [
    {
     "name": "stdout",
     "output_type": "stream",
     "text": [
      "Length: 463\n",
      "Reward Mean: 0.0414549364387061\n",
      "Length: 1931\n",
      "Reward Mean: 0.03356556036894687\n",
      "0.04424783875434233\n"
     ]
    }
   ],
   "source": [
    "from tensorflow_loader import DataLoader\n",
    "\n",
    "test_loader = DataLoader(generator.test_output_filename, label_fields=['reward', 'action_direction'])\n",
    "train_loader = DataLoader(generator.train_output_filename, label_fields=['reward', 'action_direction'], batch_size=128)\n",
    "\n",
    "test_loader.labels[:, 0] = 0.5 * (test_loader.labels[:, 0] + 1)\n",
    "train_loader.labels[:, 0] = 0.5 * (train_loader.labels[:, 0] + 1)\n",
    "\n",
    "reward_abs_mean = abs(test_loader.labels[:, 0] - 0.5).mean()\n",
    "print(reward_abs_mean)"
   ]
  },
  {
   "cell_type": "code",
   "execution_count": 129,
   "metadata": {},
   "outputs": [],
   "source": [
    "from tensorflow_utils import get_augmentation, single_class_split, tf_accuracy, tf_precision, tf_recall, tf_f1\n",
    "\n",
    "tf.reset_default_graph()\n",
    "tf.set_random_seed(4)\n",
    "\n",
    "\n",
    "train_dataset = tf.data.Dataset.from_generator(train_loader.nextBatch, (tf.float32, tf.float32), ((None, None, None, 1), (None, 2)))\n",
    "test_dataset = tf.data.Dataset.from_generator(test_loader.entireBatch, (tf.float32, tf.float32))\n",
    "\n",
    "\n",
    "handle = tf.placeholder(tf.string, shape=(), name='handle')\n",
    "iterator = tf.data.Iterator.from_string_handle(handle, train_dataset.output_types, train_dataset.output_shapes)\n",
    "train_iterator = train_dataset.make_initializable_iterator()\n",
    "test_iterator = test_dataset.make_initializable_iterator()\n",
    "    \n",
    "image, label = iterator.get_next()\n",
    "\n",
    "\n",
    "def act(x): return tf.nn.leaky_relu(x, 0.2)\n",
    "def reg(l1=0.0, l2=0.3): return tf.contrib.layers.l1_l2_regularizer(l1, l2)\n",
    "    \n",
    "    \n",
    "training = tf.placeholder_with_default(False, (), name='training')\n",
    "apply_dropout = tf.placeholder_with_default(training, (), name='apply_dropout')\n",
    "image = tf.identity(image, name='image')\n",
    "label = tf.identity(label, name='label')\n",
    "\n",
    "    \n",
    "x = tf.layers.conv2d(image, 32, (5, 5), strides=(2, 2), activation=act, kernel_regularizer=reg(), bias_regularizer=reg())\n",
    "x = tf.layers.batch_normalization(x, training=training)\n",
    "x = tf.layers.dropout(x, 0.4, training=apply_dropout)\n",
    "    \n",
    "x = tf.layers.conv2d(x, 48, (5, 5), strides=(1, 1), activation=act, kernel_regularizer=reg(), bias_regularizer=reg())\n",
    "x = tf.layers.batch_normalization(x, training=training)\n",
    "x = tf.layers.dropout(x, 0.4, training=apply_dropout)\n",
    "\n",
    "x = tf.layers.conv2d(x, 64, (5, 5), activation=act, kernel_regularizer=reg(), bias_regularizer=reg())\n",
    "x = tf.layers.batch_normalization(x, training=training)\n",
    "x = tf.layers.dropout(x, 0.4, training=apply_dropout)\n",
    "\n",
    "x = tf.layers.conv2d(x, 142, (6, 6), activation=act, kernel_regularizer=reg(), bias_regularizer=reg())\n",
    "x = tf.layers.batch_normalization(x, training=training)\n",
    "x = tf.layers.dropout(x, 0.3, training=apply_dropout)\n",
    "    \n",
    "x = tf.layers.conv2d(x, 128, (1, 1), activation=act, kernel_regularizer=reg(), bias_regularizer=reg())\n",
    "x = tf.layers.dropout(x, 0.3, training=apply_dropout)\n",
    "    \n",
    "logits = tf.layers.conv2d(x, 2, (1, 1), bias_regularizer=reg(l2=0.1))\n",
    "prob = tf.nn.sigmoid(logits, name='prob')\n",
    "\n",
    "\n",
    "reward, reward_pred = single_class_split(label, prob[:, 0, 0])\n",
    "\n",
    "\n",
    "weights = 100 * (0.2 + 0.8 * tf.abs(reward - 0.5)) / (0.2 + 0.8 * reward_abs_mean)\n",
    "loss = tf.losses.mean_squared_error(labels=reward, predictions=reward_pred, weights=weights)\n",
    "loss_reg = loss + tf.add_n(tf.get_collection(tf.GraphKeys.REGULARIZATION_LOSSES))\n",
    "    \n",
    "accuracy = tf_accuracy(tf.round(reward), reward_pred)\n",
    "precision = tf_precision(tf.round(reward), reward_pred)\n",
    "recall = tf_recall(tf.round(reward), reward_pred)\n",
    "f1 = tf_f1(precision, recall, beta=0.5)\n",
    "\n",
    "\n",
    "extra_update_ops = tf.get_collection(tf.GraphKeys.UPDATE_OPS)  # For batch normalization layers\n",
    "with tf.control_dependencies(extra_update_ops):\n",
    "    train = tf.train.AdamOptimizer(learning_rate=1e-5).minimize(loss_reg, name='train')"
   ]
  },
  {
   "cell_type": "code",
   "execution_count": 130,
   "metadata": {},
   "outputs": [
    {
     "name": "stdout",
     "output_type": "stream",
     "text": [
      "INFO:tensorflow:Restoring parameters from /home/berscheid/Documents/data/pushing/models/model-2\n",
      "Epoch\tTime[s]\tTrain Accuracy\tTest Loss\tAccuracy\tPrecision\tRecall\t\tF1\n",
      "   -1\t0.00\t-1.0000\t\t0.8284\t\t0.5832\t\t0.4956\t\t0.5864\t\t0.5114\n",
      "    0\t0.46\t0.5938\t\t0.8544\t\t0.5572\t\t0.4829\t\t0.5916\t\t0.5013\n",
      "    1\t0.58\t0.6641\t\t0.9325\t\t0.5918\t\t0.4897\t\t0.5829\t\t0.5059\n",
      "    2\t0.70\t0.6016\t\t0.8583\t\t0.6069\t\t0.4973\t\t0.6086\t\t0.5162\n",
      "    3\t0.82\t0.5703\t\t0.8791\t\t0.5767\t\t0.4956\t\t0.5906\t\t0.5121\n",
      "    4\t0.94\t0.6328\t\t0.8838\t\t0.5961\t\t0.4978\t\t0.5890\t\t0.5137\n",
      "    5\t1.05\t0.6172\t\t0.8847\t\t0.5594\t\t0.4939\t\t0.5782\t\t0.5088\n",
      "    6\t1.17\t0.6094\t\t0.8972\t\t0.6134\t\t0.4980\t\t0.5805\t\t0.5126\n",
      "    7\t1.29\t0.6094\t\t0.8689\t\t0.5767\t\t0.4970\t\t0.5742\t\t0.5107\n",
      "    8\t1.40\t0.5859\t\t0.9155\t\t0.6134\t\t0.5000\t\t0.5759\t\t0.5135\n",
      "    9\t1.52\t0.6328\t\t0.9162\t\t0.5767\t\t0.4990\t\t0.5821\t\t0.5136\n",
      "   10\t1.64\t0.5547\t\t0.8494\t\t0.5659\t\t0.4972\t\t0.5868\t\t0.5129\n",
      "   11\t1.76\t0.6094\t\t0.8840\t\t0.5551\t\t0.4950\t\t0.5973\t\t0.5125\n",
      "   12\t1.88\t0.6250\t\t0.9035\t\t0.6242\t\t0.4980\t\t0.6010\t\t0.5157\n",
      "   13\t2.00\t0.6406\t\t0.8694\t\t0.5983\t\t0.4989\t\t0.6070\t\t0.5173\n",
      "   14\t2.11\t0.7031\t\t0.8681\t\t0.5486\t\t0.4965\t\t0.6103\t\t0.5158\n",
      "   15\t2.23\t0.5703\t\t0.9006\t\t0.5529\t\t0.4947\t\t0.6095\t\t0.5141\n",
      "   16\t2.35\t0.5781\t\t0.8677\t\t0.5572\t\t0.4934\t\t0.6094\t\t0.5129\n",
      "   17\t2.47\t0.5703\t\t0.8413\t\t0.5832\t\t0.4935\t\t0.6090\t\t0.5130\n",
      "   18\t2.59\t0.6641\t\t0.8870\t\t0.5421\t\t0.4917\t\t0.6118\t\t0.5118\n",
      "   19\t2.71\t0.6016\t\t0.9128\t\t0.5788\t\t0.4916\t\t0.6086\t\t0.5113\n",
      "   20\t2.83\t0.6797\t\t0.8761\t\t0.6199\t\t0.4934\t\t0.6090\t\t0.5129\n",
      "   21\t2.96\t0.6172\t\t0.8680\t\t0.6048\t\t0.4945\t\t0.6105\t\t0.5140\n",
      "   22\t3.08\t0.5547\t\t0.8602\t\t0.5637\t\t0.4937\t\t0.6108\t\t0.5134\n",
      "   23\t3.19\t0.5547\t\t0.8706\t\t0.6004\t\t0.4945\t\t0.6094\t\t0.5139\n",
      "   24\t3.31\t0.5938\t\t0.8788\t\t0.5680\t\t0.4940\t\t0.6099\t\t0.5135\n",
      "   25\t3.43\t0.6562\t\t0.8789\t\t0.5486\t\t0.4927\t\t0.6058\t\t0.5118\n",
      "   26\t3.55\t0.6328\t\t0.8484\t\t0.5486\t\t0.4917\t\t0.6066\t\t0.5110\n",
      "   27\t3.67\t0.5938\t\t0.8469\t\t0.5724\t\t0.4914\t\t0.6066\t\t0.5108\n",
      "   28\t3.80\t0.5781\t\t0.8506\t\t0.5745\t\t0.4913\t\t0.6061\t\t0.5106\n",
      "   29\t3.92\t0.6016\t\t0.8446\t\t0.5918\t\t0.4917\t\t0.6061\t\t0.5110\n",
      "   30\t4.03\t0.5391\t\t0.8573\t\t0.5659\t\t0.4913\t\t0.6041\t\t0.5103\n",
      "   31\t4.15\t0.6328\t\t0.8571\t\t0.5572\t\t0.4906\t\t0.6032\t\t0.5097\n"
     ]
    },
    {
     "ename": "KeyboardInterrupt",
     "evalue": "",
     "output_type": "error",
     "traceback": [
      "\u001b[0;31m---------------------------------------------------------------------------\u001b[0m",
      "\u001b[0;31mKeyboardInterrupt\u001b[0m                         Traceback (most recent call last)",
      "\u001b[0;32m<ipython-input-130-207b6c16f8f3>\u001b[0m in \u001b[0;36m<module>\u001b[0;34m()\u001b[0m\n\u001b[1;32m     15\u001b[0m     \u001b[0mload\u001b[0m\u001b[0;34m=\u001b[0m\u001b[0;32mTrue\u001b[0m\u001b[0;34m,\u001b[0m\u001b[0;34m\u001b[0m\u001b[0m\n\u001b[1;32m     16\u001b[0m     \u001b[0msave\u001b[0m\u001b[0;34m=\u001b[0m\u001b[0;32mTrue\u001b[0m\u001b[0;34m,\u001b[0m\u001b[0;34m\u001b[0m\u001b[0m\n\u001b[0;32m---> 17\u001b[0;31m     \u001b[0mexport\u001b[0m\u001b[0;34m=\u001b[0m\u001b[0;32mFalse\u001b[0m\u001b[0;34m,\u001b[0m\u001b[0;34m\u001b[0m\u001b[0m\n\u001b[0m\u001b[1;32m     18\u001b[0m )\n",
      "\u001b[0;32m~/Documents/bin_picking/jupyter/tensorflow_model.py\u001b[0m in \u001b[0;36mfit\u001b[0;34m(self, train_iterator, train_batches_per_epoch, test_iterator, epochs, early_stopping_patience, load, save, export)\u001b[0m\n\u001b[1;32m    108\u001b[0m             \u001b[0;32mfor\u001b[0m \u001b[0mbatch\u001b[0m \u001b[0;32min\u001b[0m \u001b[0mrange\u001b[0m\u001b[0;34m(\u001b[0m\u001b[0mtrain_batches_per_epoch\u001b[0m\u001b[0;34m)\u001b[0m\u001b[0;34m:\u001b[0m\u001b[0;34m\u001b[0m\u001b[0m\n\u001b[1;32m    109\u001b[0m \u001b[0;31m#            for batch in tqdm(range(train_batches_per_epoch), unit='batches', leave=False, dynamic_ncols=True):\u001b[0m\u001b[0;34m\u001b[0m\u001b[0;34m\u001b[0m\u001b[0m\n\u001b[0;32m--> 110\u001b[0;31m                 \u001b[0mtrain_data\u001b[0m \u001b[0;34m=\u001b[0m \u001b[0mself\u001b[0m\u001b[0;34m.\u001b[0m\u001b[0msess\u001b[0m\u001b[0;34m.\u001b[0m\u001b[0mrun\u001b[0m\u001b[0;34m(\u001b[0m\u001b[0;34m[\u001b[0m\u001b[0;34m'train'\u001b[0m\u001b[0;34m,\u001b[0m \u001b[0mself\u001b[0m\u001b[0;34m.\u001b[0m\u001b[0mtest_metrices\u001b[0m\u001b[0;34m[\u001b[0m\u001b[0;36m1\u001b[0m\u001b[0;34m]\u001b[0m\u001b[0;34m]\u001b[0m\u001b[0;34m,\u001b[0m \u001b[0mfeed_dict\u001b[0m\u001b[0;34m=\u001b[0m\u001b[0;34m{\u001b[0m\u001b[0;34m'handle:0'\u001b[0m\u001b[0;34m:\u001b[0m \u001b[0mself\u001b[0m\u001b[0;34m.\u001b[0m\u001b[0mtrain_handle\u001b[0m\u001b[0;34m,\u001b[0m \u001b[0;34m'training:0'\u001b[0m\u001b[0;34m:\u001b[0m \u001b[0;32mTrue\u001b[0m\u001b[0;34m}\u001b[0m\u001b[0;34m)\u001b[0m\u001b[0;34m\u001b[0m\u001b[0m\n\u001b[0m\u001b[1;32m    111\u001b[0m \u001b[0;34m\u001b[0m\u001b[0m\n\u001b[1;32m    112\u001b[0m             \u001b[0;32mif\u001b[0m \u001b[0mself\u001b[0m\u001b[0;34m.\u001b[0m\u001b[0monEpochEnd\u001b[0m\u001b[0;34m(\u001b[0m\u001b[0mepoch\u001b[0m\u001b[0;34m,\u001b[0m \u001b[0mtrain_data\u001b[0m\u001b[0;34m,\u001b[0m \u001b[0mearly_stopping_patience\u001b[0m\u001b[0;34m,\u001b[0m \u001b[0msave\u001b[0m\u001b[0;34m)\u001b[0m\u001b[0;34m:\u001b[0m\u001b[0;34m\u001b[0m\u001b[0m\n",
      "\u001b[0;32m~/.local/lib/python3.5/site-packages/tensorflow/python/client/session.py\u001b[0m in \u001b[0;36mrun\u001b[0;34m(self, fetches, feed_dict, options, run_metadata)\u001b[0m\n\u001b[1;32m    875\u001b[0m     \u001b[0;32mtry\u001b[0m\u001b[0;34m:\u001b[0m\u001b[0;34m\u001b[0m\u001b[0m\n\u001b[1;32m    876\u001b[0m       result = self._run(None, fetches, feed_dict, options_ptr,\n\u001b[0;32m--> 877\u001b[0;31m                          run_metadata_ptr)\n\u001b[0m\u001b[1;32m    878\u001b[0m       \u001b[0;32mif\u001b[0m \u001b[0mrun_metadata\u001b[0m\u001b[0;34m:\u001b[0m\u001b[0;34m\u001b[0m\u001b[0m\n\u001b[1;32m    879\u001b[0m         \u001b[0mproto_data\u001b[0m \u001b[0;34m=\u001b[0m \u001b[0mtf_session\u001b[0m\u001b[0;34m.\u001b[0m\u001b[0mTF_GetBuffer\u001b[0m\u001b[0;34m(\u001b[0m\u001b[0mrun_metadata_ptr\u001b[0m\u001b[0;34m)\u001b[0m\u001b[0;34m\u001b[0m\u001b[0m\n",
      "\u001b[0;32m~/.local/lib/python3.5/site-packages/tensorflow/python/client/session.py\u001b[0m in \u001b[0;36m_run\u001b[0;34m(self, handle, fetches, feed_dict, options, run_metadata)\u001b[0m\n\u001b[1;32m   1098\u001b[0m     \u001b[0;32mif\u001b[0m \u001b[0mfinal_fetches\u001b[0m \u001b[0;32mor\u001b[0m \u001b[0mfinal_targets\u001b[0m \u001b[0;32mor\u001b[0m \u001b[0;34m(\u001b[0m\u001b[0mhandle\u001b[0m \u001b[0;32mand\u001b[0m \u001b[0mfeed_dict_tensor\u001b[0m\u001b[0;34m)\u001b[0m\u001b[0;34m:\u001b[0m\u001b[0;34m\u001b[0m\u001b[0m\n\u001b[1;32m   1099\u001b[0m       results = self._do_run(handle, final_targets, final_fetches,\n\u001b[0;32m-> 1100\u001b[0;31m                              feed_dict_tensor, options, run_metadata)\n\u001b[0m\u001b[1;32m   1101\u001b[0m     \u001b[0;32melse\u001b[0m\u001b[0;34m:\u001b[0m\u001b[0;34m\u001b[0m\u001b[0m\n\u001b[1;32m   1102\u001b[0m       \u001b[0mresults\u001b[0m \u001b[0;34m=\u001b[0m \u001b[0;34m[\u001b[0m\u001b[0;34m]\u001b[0m\u001b[0;34m\u001b[0m\u001b[0m\n",
      "\u001b[0;32m~/.local/lib/python3.5/site-packages/tensorflow/python/client/session.py\u001b[0m in \u001b[0;36m_do_run\u001b[0;34m(self, handle, target_list, fetch_list, feed_dict, options, run_metadata)\u001b[0m\n\u001b[1;32m   1270\u001b[0m     \u001b[0;32mif\u001b[0m \u001b[0mhandle\u001b[0m \u001b[0;32mis\u001b[0m \u001b[0;32mNone\u001b[0m\u001b[0;34m:\u001b[0m\u001b[0;34m\u001b[0m\u001b[0m\n\u001b[1;32m   1271\u001b[0m       return self._do_call(_run_fn, feeds, fetches, targets, options,\n\u001b[0;32m-> 1272\u001b[0;31m                            run_metadata)\n\u001b[0m\u001b[1;32m   1273\u001b[0m     \u001b[0;32melse\u001b[0m\u001b[0;34m:\u001b[0m\u001b[0;34m\u001b[0m\u001b[0m\n\u001b[1;32m   1274\u001b[0m       \u001b[0;32mreturn\u001b[0m \u001b[0mself\u001b[0m\u001b[0;34m.\u001b[0m\u001b[0m_do_call\u001b[0m\u001b[0;34m(\u001b[0m\u001b[0m_prun_fn\u001b[0m\u001b[0;34m,\u001b[0m \u001b[0mhandle\u001b[0m\u001b[0;34m,\u001b[0m \u001b[0mfeeds\u001b[0m\u001b[0;34m,\u001b[0m \u001b[0mfetches\u001b[0m\u001b[0;34m)\u001b[0m\u001b[0;34m\u001b[0m\u001b[0m\n",
      "\u001b[0;32m~/.local/lib/python3.5/site-packages/tensorflow/python/client/session.py\u001b[0m in \u001b[0;36m_do_call\u001b[0;34m(self, fn, *args)\u001b[0m\n\u001b[1;32m   1276\u001b[0m   \u001b[0;32mdef\u001b[0m \u001b[0m_do_call\u001b[0m\u001b[0;34m(\u001b[0m\u001b[0mself\u001b[0m\u001b[0;34m,\u001b[0m \u001b[0mfn\u001b[0m\u001b[0;34m,\u001b[0m \u001b[0;34m*\u001b[0m\u001b[0margs\u001b[0m\u001b[0;34m)\u001b[0m\u001b[0;34m:\u001b[0m\u001b[0;34m\u001b[0m\u001b[0m\n\u001b[1;32m   1277\u001b[0m     \u001b[0;32mtry\u001b[0m\u001b[0;34m:\u001b[0m\u001b[0;34m\u001b[0m\u001b[0m\n\u001b[0;32m-> 1278\u001b[0;31m       \u001b[0;32mreturn\u001b[0m \u001b[0mfn\u001b[0m\u001b[0;34m(\u001b[0m\u001b[0;34m*\u001b[0m\u001b[0margs\u001b[0m\u001b[0;34m)\u001b[0m\u001b[0;34m\u001b[0m\u001b[0m\n\u001b[0m\u001b[1;32m   1279\u001b[0m     \u001b[0;32mexcept\u001b[0m \u001b[0merrors\u001b[0m\u001b[0;34m.\u001b[0m\u001b[0mOpError\u001b[0m \u001b[0;32mas\u001b[0m \u001b[0me\u001b[0m\u001b[0;34m:\u001b[0m\u001b[0;34m\u001b[0m\u001b[0m\n\u001b[1;32m   1280\u001b[0m       \u001b[0mmessage\u001b[0m \u001b[0;34m=\u001b[0m \u001b[0mcompat\u001b[0m\u001b[0;34m.\u001b[0m\u001b[0mas_text\u001b[0m\u001b[0;34m(\u001b[0m\u001b[0me\u001b[0m\u001b[0;34m.\u001b[0m\u001b[0mmessage\u001b[0m\u001b[0;34m)\u001b[0m\u001b[0;34m\u001b[0m\u001b[0m\n",
      "\u001b[0;32m~/.local/lib/python3.5/site-packages/tensorflow/python/client/session.py\u001b[0m in \u001b[0;36m_run_fn\u001b[0;34m(feed_dict, fetch_list, target_list, options, run_metadata)\u001b[0m\n\u001b[1;32m   1261\u001b[0m       \u001b[0mself\u001b[0m\u001b[0;34m.\u001b[0m\u001b[0m_extend_graph\u001b[0m\u001b[0;34m(\u001b[0m\u001b[0;34m)\u001b[0m\u001b[0;34m\u001b[0m\u001b[0m\n\u001b[1;32m   1262\u001b[0m       return self._call_tf_sessionrun(\n\u001b[0;32m-> 1263\u001b[0;31m           options, feed_dict, fetch_list, target_list, run_metadata)\n\u001b[0m\u001b[1;32m   1264\u001b[0m \u001b[0;34m\u001b[0m\u001b[0m\n\u001b[1;32m   1265\u001b[0m     \u001b[0;32mdef\u001b[0m \u001b[0m_prun_fn\u001b[0m\u001b[0;34m(\u001b[0m\u001b[0mhandle\u001b[0m\u001b[0;34m,\u001b[0m \u001b[0mfeed_dict\u001b[0m\u001b[0;34m,\u001b[0m \u001b[0mfetch_list\u001b[0m\u001b[0;34m)\u001b[0m\u001b[0;34m:\u001b[0m\u001b[0;34m\u001b[0m\u001b[0m\n",
      "\u001b[0;32m~/.local/lib/python3.5/site-packages/tensorflow/python/client/session.py\u001b[0m in \u001b[0;36m_call_tf_sessionrun\u001b[0;34m(self, options, feed_dict, fetch_list, target_list, run_metadata)\u001b[0m\n\u001b[1;32m   1348\u001b[0m     return tf_session.TF_SessionRun_wrapper(\n\u001b[1;32m   1349\u001b[0m         \u001b[0mself\u001b[0m\u001b[0;34m.\u001b[0m\u001b[0m_session\u001b[0m\u001b[0;34m,\u001b[0m \u001b[0moptions\u001b[0m\u001b[0;34m,\u001b[0m \u001b[0mfeed_dict\u001b[0m\u001b[0;34m,\u001b[0m \u001b[0mfetch_list\u001b[0m\u001b[0;34m,\u001b[0m \u001b[0mtarget_list\u001b[0m\u001b[0;34m,\u001b[0m\u001b[0;34m\u001b[0m\u001b[0m\n\u001b[0;32m-> 1350\u001b[0;31m         run_metadata)\n\u001b[0m\u001b[1;32m   1351\u001b[0m \u001b[0;34m\u001b[0m\u001b[0m\n\u001b[1;32m   1352\u001b[0m   \u001b[0;32mdef\u001b[0m \u001b[0m_call_tf_sessionprun\u001b[0m\u001b[0;34m(\u001b[0m\u001b[0mself\u001b[0m\u001b[0;34m,\u001b[0m \u001b[0mhandle\u001b[0m\u001b[0;34m,\u001b[0m \u001b[0mfeed_dict\u001b[0m\u001b[0;34m,\u001b[0m \u001b[0mfetch_list\u001b[0m\u001b[0;34m)\u001b[0m\u001b[0;34m:\u001b[0m\u001b[0;34m\u001b[0m\u001b[0m\n",
      "\u001b[0;31mKeyboardInterrupt\u001b[0m: "
     ]
    }
   ],
   "source": [
    "from tensorflow_model import Model\n",
    "\n",
    "model = Model(\n",
    "    test_metrices=[loss, accuracy, precision, recall, f1],\n",
    "    inputs={'image': image, 'apply_dropout': apply_dropout},\n",
    "    outputs={'prob': prob},\n",
    "    model_input_path=generator.model_directory + 'model-2',\n",
    "    model_output_path=generator.model_directory + 'model-2'\n",
    ")\n",
    "\n",
    "model.fit(\n",
    "    train_iterator, train_loader.batches_per_epoch, test_iterator,\n",
    "    epochs=5000,\n",
    "    early_stopping_patience=3000,\n",
    "    load=False,\n",
    "    save=True,\n",
    "    export=False,\n",
    ")"
   ]
  },
  {
   "cell_type": "code",
   "execution_count": null,
   "metadata": {},
   "outputs": [],
   "source": []
  }
 ],
 "metadata": {
  "kernelspec": {
   "display_name": "Python 3",
   "language": "python",
   "name": "python3"
  },
  "language_info": {
   "codemirror_mode": {
    "name": "ipython",
    "version": 3
   },
   "file_extension": ".py",
   "mimetype": "text/x-python",
   "name": "python",
   "nbconvert_exporter": "python",
   "pygments_lexer": "ipython3",
   "version": "3.5.2"
  }
 },
 "nbformat": 4,
 "nbformat_minor": 2
}
